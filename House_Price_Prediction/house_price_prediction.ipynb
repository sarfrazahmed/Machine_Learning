{
  "cells": [
    {
      "metadata": {
        "_cell_guid": "b1076dfc-b9ad-4769-8c92-a6c4dae69d19",
        "_uuid": "8f2839f25d086af736a60e9eeb907d3b93b6e0e5",
        "trusted": false,
        "collapsed": true
      },
      "cell_type": "code",
      "source": "# This Python 3 environment comes with many helpful analytics libraries installed\n# It is defined by the kaggle/python docker image: https://github.com/kaggle/docker-python\n# For example, here's several helpful packages to load in \n\nimport numpy as np # linear algebra\nimport pandas as pd # data processing, CSV file I/O (e.g. pd.read_csv)\n\n# Input data files are available in the \"../input/\" directory.\n# For example, running this (by clicking run or pressing Shift+Enter) will list the files in the input directory\n\nimport os\nprint(os.listdir(\"../input\"))\n\n# Any results you write to the current directory are saved as output.",
      "execution_count": null,
      "outputs": []
    },
    {
      "metadata": {
        "_cell_guid": "ae3a5756-442e-4970-a498-2c09665944ad",
        "_uuid": "85e2b00846ff13005fb98b42ff101043a965ac26"
      },
      "cell_type": "markdown",
      "source": "# Importing libraries and datasets"
    },
    {
      "metadata": {
        "_cell_guid": "341db930-b48e-4b32-84de-c94bced6bd44",
        "_uuid": "a36dd9485eb459495804279cbf0f0b0e37ed5837",
        "collapsed": true,
        "trusted": false
      },
      "cell_type": "code",
      "source": "# Importing libraries\nimport matplotlib.pyplot as plt",
      "execution_count": null,
      "outputs": []
    },
    {
      "metadata": {
        "_cell_guid": "79c7e3d0-c299-4dcb-8224-4455121ee9b0",
        "_uuid": "d629ff2d2480ee46fbb7e2d37f6b5fab8052498a",
        "trusted": false,
        "collapsed": true
      },
      "cell_type": "code",
      "source": "# Importing datasets\nhouse_data = pd.read_csv(\"../input/train.csv\")\nhouse_data.describe()",
      "execution_count": null,
      "outputs": []
    },
    {
      "metadata": {
        "_cell_guid": "63365a56-6fa3-47f5-9e8f-d4e9588deabf",
        "_uuid": "5a9f615a3ccbb4e7094cc40671bf93bb15f190f5"
      },
      "cell_type": "markdown",
      "source": "# Data Treatment"
    },
    {
      "metadata": {
        "_cell_guid": "7ded2663-4e04-4d29-b38e-89a1190bba71",
        "_uuid": "d1b066ed711844f6897f8d1d9b835d8739f4b4f4",
        "scrolled": true,
        "trusted": false,
        "collapsed": true
      },
      "cell_type": "code",
      "source": "# Dropping the ID column\nhouse_data.drop('Id', axis=1, inplace=True)\nprint(house_data.head(5))",
      "execution_count": null,
      "outputs": []
    },
    {
      "metadata": {
        "_cell_guid": "d79eff5c-05ce-4967-a340-7eb5f34e1409",
        "_uuid": "51a0fb6256fd060cac40c444c9059335428f5dff",
        "trusted": false,
        "collapsed": true
      },
      "cell_type": "code",
      "source": "# Listing the data types\nset(house_data.dtypes)",
      "execution_count": null,
      "outputs": []
    },
    {
      "metadata": {
        "_cell_guid": "0ce3b38b-6a3f-4db6-93a5-5f6782c07161",
        "_uuid": "bfcdd5d5f6ae8a68d3f570d26e1642eda401315b",
        "scrolled": true,
        "trusted": false,
        "collapsed": true
      },
      "cell_type": "code",
      "source": "# Listing the total number of categories in the categorical feature\ni = 0\nfor col_name in house_data.columns:\n    if house_data[col_name].dtypes == 'object':\n        i = i + 1\n        unique_cat = len(house_data[col_name].unique())\n        print(\"Feature '{col_name}' has '{unique_cat}' unique categories\".format(col_name = col_name, unique_cat = unique_cat))\nprint(\"------------------------------------------------------\")\nprint(\"Total number of categorical features are {i}\".format(i=i))",
      "execution_count": null,
      "outputs": []
    },
    {
      "metadata": {
        "_cell_guid": "eb5ff8e8-40a2-4a5f-8182-02f1c21d5a4a",
        "_uuid": "f4c35f9891bbe59b2835de72f47f260272d3e8b0",
        "scrolled": true,
        "trusted": false,
        "collapsed": true
      },
      "cell_type": "code",
      "source": "# Listing the features with null values\nhouse_data.isnull().sum().sort_values(ascending = False).head(20)",
      "execution_count": null,
      "outputs": []
    },
    {
      "metadata": {
        "_cell_guid": "8c0b67ca-deb0-4df9-847e-9541aefec2c3",
        "_uuid": "c9af536050451eac502918c71c1897ac1d0b1567",
        "collapsed": true,
        "trusted": false
      },
      "cell_type": "code",
      "source": "# Listing the numerical features with missing values\nNumerical_missing_features = ['LotFrontage', 'GarageYrBlt', 'MasVnrArea']",
      "execution_count": null,
      "outputs": []
    },
    {
      "metadata": {
        "_cell_guid": "3ab36305-8777-4cfa-9304-f182998faafd",
        "_uuid": "fdd3ba2624f7e65e829d4e76ac2090c21458218a",
        "trusted": false,
        "collapsed": true
      },
      "cell_type": "code",
      "source": "# Dropping columns where the missing number of datapoints exceeds 45%\nhouse_data.drop('PoolQC', axis=1, inplace=True)\nhouse_data.drop('MiscFeature', axis=1, inplace=True)\nhouse_data.drop('Alley', axis=1, inplace=True)\nhouse_data.drop('Fence', axis=1, inplace=True)\nhouse_data.drop('FireplaceQu', axis=1, inplace=True)\nprint(house_data.head(5))",
      "execution_count": null,
      "outputs": []
    },
    {
      "metadata": {
        "collapsed": true,
        "_uuid": "f62a24e386f58dad19ab2f3d011103e8c95bcb9c",
        "trusted": false
      },
      "cell_type": "code",
      "source": "# Replacing the null values with mean for the numerical features\nfor feature in Numerical_missing_features:\n    house_data[feature].fillna((house_data[feature].mean()), inplace=True )",
      "execution_count": null,
      "outputs": []
    },
    {
      "metadata": {
        "collapsed": true,
        "_uuid": "74f62d8ff27601ca210ef8d8d0234c97c8eac8a5",
        "trusted": false
      },
      "cell_type": "code",
      "source": "# Listing the categorical features with missing values\ncategorical_missing_features = ['GarageType', 'GarageFinish', 'GarageCond', 'GarageQual', 'BsmtFinType2', 'BsmtExposure', 'BsmtFinType1', 'BsmtCond', 'BsmtQual', 'MasVnrType', 'Electrical']",
      "execution_count": null,
      "outputs": []
    },
    {
      "metadata": {
        "collapsed": true,
        "_uuid": "852aaaf0b0860fdb739ca30dbe8621439b9354e3",
        "trusted": false
      },
      "cell_type": "code",
      "source": "# Replacing the null values with mode for the categorical features\nfor feature in categorical_missing_features:\n    house_data[feature].fillna((house_data[feature].mode()[0]), inplace=True)",
      "execution_count": null,
      "outputs": []
    },
    {
      "metadata": {
        "_uuid": "1ec6d34f76bd15a2cc0dcdd6605958b2949afd47"
      },
      "cell_type": "markdown",
      "source": "# Data Pre-processing"
    },
    {
      "metadata": {
        "collapsed": true,
        "_uuid": "2a81234d977b57e619da82e2c4f28f3834f1a4be",
        "trusted": false
      },
      "cell_type": "code",
      "source": "# Getting dummies for categorical values\nhouse_data_dummies = pd.get_dummies(house_data)\nhouse_data_dummies.shape",
      "execution_count": null,
      "outputs": []
    },
    {
      "metadata": {
        "collapsed": true,
        "_uuid": "4e591bd56c16485e56918b2fe6981679c821f160",
        "trusted": false
      },
      "cell_type": "code",
      "source": "# Labels are the values we want to predict\nlabels = np.array(house_data_dummies['SalePrice'])",
      "execution_count": null,
      "outputs": []
    },
    {
      "metadata": {
        "collapsed": true,
        "_uuid": "e6a95ff43071a0066c0e33bb9b4607466bb8b4bb",
        "trusted": false
      },
      "cell_type": "code",
      "source": "# Removing the label from the features\nhouse_data_dummies.drop('SalePrice', axis=1, inplace=True)",
      "execution_count": null,
      "outputs": []
    },
    {
      "metadata": {
        "collapsed": true,
        "_uuid": "4687745395ebcbabda52d926ee9d06eeb7c56bde",
        "trusted": false
      },
      "cell_type": "code",
      "source": "# Saving feature names for later use\nfeature_list = list(house_data_dummies.columns)",
      "execution_count": null,
      "outputs": []
    },
    {
      "metadata": {
        "collapsed": true,
        "_uuid": "1dc3005e103a854170d567c03d73e12d25a87801",
        "trusted": false
      },
      "cell_type": "code",
      "source": "# Converting to numpy arrays\nhouse_data_dummies = np.array(house_data_dummies)",
      "execution_count": null,
      "outputs": []
    },
    {
      "metadata": {
        "_uuid": "072708042d721e2e87a6d0386f0fb768d9b34aa2"
      },
      "cell_type": "markdown",
      "source": "# Test Train Split"
    },
    {
      "metadata": {
        "collapsed": true,
        "_uuid": "dae3632f4eda8936adfd65f63229920cbf40722a",
        "trusted": false
      },
      "cell_type": "code",
      "source": "# Using Skicit-learn to split data into training and testing sets\nfrom sklearn.model_selection import train_test_split\n\n# Split the data into training and testing sets\ntrain_features, test_features, train_labels, test_labels = train_test_split(house_data_dummies, labels, test_size = 0.25, random_state = 42)",
      "execution_count": null,
      "outputs": []
    },
    {
      "metadata": {
        "_uuid": "e5f99f1ec8963b3f6dd885a10ff001ad3fddbf7e",
        "trusted": false,
        "collapsed": true
      },
      "cell_type": "code",
      "source": "print('Training Features Shape:', train_features.shape)\nprint('Training Labels Shape:', train_labels.shape)\nprint('Testing Features Shape:', test_features.shape)\nprint('Testing Labels Shape:', test_labels.shape)",
      "execution_count": null,
      "outputs": []
    },
    {
      "metadata": {
        "_uuid": "c07d91cef19d986d9de7602d88690684ebb51fc1"
      },
      "cell_type": "markdown",
      "source": "# Train Model"
    },
    {
      "metadata": {
        "collapsed": true,
        "_uuid": "105873cdf628f15bc15054f0b4508ebc06400175",
        "trusted": false
      },
      "cell_type": "code",
      "source": "# Import the model we are using\nfrom sklearn.ensemble import RandomForestRegressor\n\n# Instantiate model with 1000 decision trees\nrf = RandomForestRegressor(n_estimators = 1000, oob_score = True, random_state = 42)\n\n# Train the model on training data\nrf.fit(train_features, train_labels);",
      "execution_count": null,
      "outputs": []
    },
    {
      "metadata": {
        "_uuid": "d1a0845c889c9480b3478c206d99408f33c97cd6"
      },
      "cell_type": "markdown",
      "source": "# Getting the accuracy score"
    },
    {
      "metadata": {
        "_uuid": "3c98de2f53467fd86cc20d68bf9f05455863ad6d",
        "trusted": false,
        "collapsed": true
      },
      "cell_type": "code",
      "source": "# Training accuracy\nrf.score(train_features, train_labels)",
      "execution_count": null,
      "outputs": []
    },
    {
      "metadata": {
        "_uuid": "af8243d70d96ea6bd3fd2ebfdd8919b128e3c4a3",
        "trusted": false,
        "collapsed": true
      },
      "cell_type": "code",
      "source": "# Testing accuracy\nrf.score(test_features, test_labels)",
      "execution_count": null,
      "outputs": []
    }
  ],
  "metadata": {
    "language_info": {
      "name": "python",
      "version": "3.6.5",
      "mimetype": "text/x-python",
      "codemirror_mode": {
        "name": "ipython",
        "version": 3
      },
      "pygments_lexer": "ipython3",
      "nbconvert_exporter": "python",
      "file_extension": ".py"
    },
    "kernelspec": {
      "display_name": "Python 3",
      "language": "python",
      "name": "python3"
    }
  },
  "nbformat": 4,
  "nbformat_minor": 1
}